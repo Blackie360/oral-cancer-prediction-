{
 "cells": [
  {
   "cell_type": "code",
   "execution_count": 9,
   "metadata": {},
   "outputs": [],
   "source": [
    "# Import necessary libraries\n",
    "import pandas as pd\n",
    "from sklearn.model_selection import train_test_split\n",
    "from sklearn.preprocessing import LabelEncoder, StandardScaler\n",
    "from sklearn.ensemble import RandomForestClassifier\n",
    "from sklearn.metrics import accuracy_score, classification_report, confusion_matrix\n",
    "import matplotlib.pyplot as plt\n"
   ]
  },
  {
   "cell_type": "code",
   "execution_count": null,
   "metadata": {},
   "outputs": [],
   "source": [
    "# Load the dataset\n",
    "data = pd.read_csv('dataset.csv')\n",
    "\n",
    "# Display the first few rows of the dataset\n",
    "data.head()\n"
   ]
  },
  {
   "cell_type": "code",
   "execution_count": 12,
   "metadata": {},
   "outputs": [
    {
     "name": "stdout",
     "output_type": "stream",
     "text": [
      "<class 'pandas.core.frame.DataFrame'>\n",
      "RangeIndex: 160292 entries, 0 to 160291\n",
      "Data columns (total 11 columns):\n",
      " #   Column                Non-Null Count   Dtype  \n",
      "---  ------                --------------   -----  \n",
      " 0   ID                    160292 non-null  int64  \n",
      " 1   Country               160292 non-null  object \n",
      " 2   Gender                160292 non-null  object \n",
      " 3   Age                   160292 non-null  int64  \n",
      " 4   Tobacco_Use           160292 non-null  int64  \n",
      " 5   Alcohol_Use           160292 non-null  int64  \n",
      " 6   Socioeconomic_Status  160292 non-null  object \n",
      " 7   Diagnosis_Stage       160292 non-null  object \n",
      " 8   Treatment_Type        160292 non-null  object \n",
      " 9   Survival_Rate         160292 non-null  float64\n",
      " 10  HPV_Related           160292 non-null  int64  \n",
      "dtypes: float64(1), int64(5), object(5)\n",
      "memory usage: 13.5+ MB\n"
     ]
    },
    {
     "ename": "NameError",
     "evalue": "name 'sns' is not defined",
     "output_type": "error",
     "traceback": [
      "\u001b[1;31m---------------------------------------------------------------------------\u001b[0m",
      "\u001b[1;31mNameError\u001b[0m                                 Traceback (most recent call last)",
      "Cell \u001b[1;32mIn[12], line 12\u001b[0m\n\u001b[0;32m     10\u001b[0m \u001b[38;5;66;03m# Visualize the distribution of the target variable\u001b[39;00m\n\u001b[0;32m     11\u001b[0m plt\u001b[38;5;241m.\u001b[39mfigure(figsize\u001b[38;5;241m=\u001b[39m(\u001b[38;5;241m6\u001b[39m, \u001b[38;5;241m4\u001b[39m))\n\u001b[1;32m---> 12\u001b[0m \u001b[43msns\u001b[49m\u001b[38;5;241m.\u001b[39mcountplot(data[\u001b[38;5;124m'\u001b[39m\u001b[38;5;124mSurvival_Rate\u001b[39m\u001b[38;5;124m'\u001b[39m])\n\u001b[0;32m     13\u001b[0m plt\u001b[38;5;241m.\u001b[39mtitle(\u001b[38;5;124m\"\u001b[39m\u001b[38;5;124mSurvival Rate Distribution\u001b[39m\u001b[38;5;124m\"\u001b[39m)\n\u001b[0;32m     14\u001b[0m plt\u001b[38;5;241m.\u001b[39mshow()\n",
      "\u001b[1;31mNameError\u001b[0m: name 'sns' is not defined"
     ]
    },
    {
     "data": {
      "text/plain": [
       "<Figure size 600x400 with 0 Axes>"
      ]
     },
     "metadata": {},
     "output_type": "display_data"
    }
   ],
   "source": [
    "# Get basic information about the dataset\n",
    "data.info()\n",
    "\n",
    "# Check for missing values\n",
    "data.isnull().sum()\n",
    "\n",
    "# Check basic statistics of the numeric columns\n",
    "data.describe()\n",
    "\n",
    "# Visualize the distribution of the target variable\n",
    "plt.figure(figsize=(6, 4))\n",
    "sns.countplot(data['Survival_Rate'])\n",
    "plt.title(\"Survival Rate Distribution\")\n",
    "plt.show()\n"
   ]
  },
  {
   "cell_type": "code",
   "execution_count": 13,
   "metadata": {},
   "outputs": [
    {
     "data": {
      "text/plain": [
       "ID                      0\n",
       "Country                 0\n",
       "Gender                  0\n",
       "Age                     0\n",
       "Tobacco_Use             0\n",
       "Alcohol_Use             0\n",
       "Socioeconomic_Status    0\n",
       "Diagnosis_Stage         0\n",
       "Treatment_Type          0\n",
       "Survival_Rate           0\n",
       "HPV_Related             0\n",
       "dtype: int64"
      ]
     },
     "execution_count": 13,
     "metadata": {},
     "output_type": "execute_result"
    }
   ],
   "source": [
    "# Encoding categorical columns using LabelEncoder\n",
    "label_encoder = LabelEncoder()\n",
    "\n",
    "# Apply label encoding to categorical columns (adjust according to your dataset)\n",
    "data['Country'] = label_encoder.fit_transform(data['Country'])\n",
    "data['Gender'] = label_encoder.fit_transform(data['Gender'])\n",
    "data['Tobacco_Use'] = label_encoder.fit_transform(data['Tobacco_Use'].astype(str))\n",
    "data['Alcohol_Use'] = label_encoder.fit_transform(data['Alcohol_Use'].astype(str))\n",
    "data['Socioeconomic_Status'] = label_encoder.fit_transform(data['Socioeconomic_Status'])\n",
    "data['Diagnosis_Stage'] = label_encoder.fit_transform(data['Diagnosis_Stage'])\n",
    "data['Treatment_Type'] = label_encoder.fit_transform(data['Treatment_Type'])\n",
    "data['HPV_Related'] = label_encoder.fit_transform(data['HPV_Related'].astype(str))\n",
    "\n",
    "# Check for missing values again after encoding\n",
    "data.isnull().sum()\n"
   ]
  },
  {
   "cell_type": "code",
   "execution_count": 14,
   "metadata": {},
   "outputs": [
    {
     "name": "stdout",
     "output_type": "stream",
     "text": [
      "Training set size: (128233, 10)\n",
      "Testing set size: (32059, 10)\n"
     ]
    }
   ],
   "source": [
    "# Define features and target variable\n",
    "X = data.drop(columns=['Survival_Rate'])  # Features (dropping the target column)\n",
    "y = data['Survival_Rate']  # Target variable (Survival Rate)\n",
    "\n",
    "# Split the dataset into training and testing sets (80% train, 20% test)\n",
    "X_train, X_test, y_train, y_test = train_test_split(X, y, test_size=0.2, random_state=42)\n",
    "\n",
    "# Display the shape of the training and testing data\n",
    "print(f\"Training set size: {X_train.shape}\")\n",
    "print(f\"Testing set size: {X_test.shape}\")\n"
   ]
  }
 ],
 "metadata": {
  "kernelspec": {
   "display_name": "Python 3",
   "language": "python",
   "name": "python3"
  },
  "language_info": {
   "codemirror_mode": {
    "name": "ipython",
    "version": 3
   },
   "file_extension": ".py",
   "mimetype": "text/x-python",
   "name": "python",
   "nbconvert_exporter": "python",
   "pygments_lexer": "ipython3",
   "version": "3.10.10"
  }
 },
 "nbformat": 4,
 "nbformat_minor": 2
}
